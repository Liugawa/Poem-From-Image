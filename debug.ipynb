{
 "cells": [
  {
   "cell_type": "code",
   "execution_count": 1,
   "metadata": {
    "collapsed": true
   },
   "outputs": [],
   "source": [
    "import torch\n",
    "import torchvision.models as models\n",
    "import torch.nn as nn\n",
    "import numpy as np\n",
    "import pandas as pd\n",
    "from urllib import request, error\n",
    "import sys, os\n",
    "import glob2"
   ]
  },
  {
   "cell_type": "code",
   "execution_count": 7,
   "metadata": {},
   "outputs": [],
   "source": [
    "df = pd.read_csv('data/image-sentiment-polarity.csv', usecols=[1, 5, 6, 7], header=None, names=['golden', 'label', 'confidence', 'url'])[1:]"
   ]
  },
  {
   "cell_type": "code",
   "execution_count": 9,
   "metadata": {},
   "outputs": [],
   "source": [
    "s = set()\n",
    "for label in df.label:\n",
    "    s.add(label)"
   ]
  },
  {
   "cell_type": "code",
   "execution_count": 14,
   "metadata": {},
   "outputs": [],
   "source": [
    "train = df[df.golden=='FALSE']\n",
    "test = df[df.golden=='TRUE']"
   ]
  },
  {
   "cell_type": "code",
   "execution_count": 17,
   "metadata": {},
   "outputs": [],
   "source": [
    "train.to_csv('data/image-sentiment-polarity-train.csv', index_label='id')\n",
    "test.to_csv('data/image-sentiment-polarity-test.csv', index_label='id')"
   ]
  },
  {
   "cell_type": "code",
   "execution_count": 18,
   "metadata": {},
   "outputs": [],
   "source": [
    "df.to_csv('data/image-sentiment-polarity-all.csv', index_label='id')"
   ]
  },
  {
   "cell_type": "code",
   "execution_count": 27,
   "metadata": {},
   "outputs": [],
   "source": [
    "from util import load_vocab_json\n",
    "import json\n",
    "with open('data/multim_poem.json') as f:\n",
    "    multim = json.load(f)\n",
    "with open('data/unim_poem.json') as f:\n",
    "    unim = json.load(f)"
   ]
  },
  {
   "cell_type": "code",
   "execution_count": null,
   "metadata": {},
   "outputs": [],
   "source": []
  },
  {
   "cell_type": "code",
   "execution_count": 28,
   "metadata": {},
   "outputs": [],
   "source": [
    "imgs = os.listdir('data/image/')\n",
    "valid_ids = set()\n",
    "for img in imgs:\n",
    "    valid_ids.add(int(os.path.splitext(img)[0]))"
   ]
  },
  {
   "cell_type": "code",
   "execution_count": 29,
   "metadata": {},
   "outputs": [],
   "source": [
    "def filter_multim(multim):\n",
    "    output = []\n",
    "    imgs = os.listdir('data/image/')\n",
    "    valid_ids = set()\n",
    "    for img in imgs:\n",
    "        valid_ids.add(int(os.path.splitext(img)[0]))\n",
    "    for entry in multim:\n",
    "        if entry['id'] in valid_ids:\n",
    "            output.append(entry)\n",
    "    return output"
   ]
  },
  {
   "cell_type": "code",
   "execution_count": 30,
   "metadata": {},
   "outputs": [],
   "source": [
    "filtered = filter_multim(multim)"
   ]
  },
  {
   "cell_type": "code",
   "execution_count": 44,
   "metadata": {},
   "outputs": [],
   "source": [
    "length = []\n",
    "wordlen = []\n",
    "sen_word_len = []\n",
    "for entry in unim:\n",
    "    poem = entry['poem']\n",
    "    words = poem.split()\n",
    "    wordlen.append(len(words))\n",
    "    sentences = poem.split('\\n')\n",
    "    for sentence in sentences:\n",
    "        sen_word_len.append(len(sentence.split(' ')))\n",
    "    length.append(len(sentences))"
   ]
  },
  {
   "cell_type": "code",
   "execution_count": 45,
   "metadata": {},
   "outputs": [
    {
     "data": {
      "text/plain": [
       "35.44758483889991"
      ]
     },
     "execution_count": 45,
     "metadata": {},
     "output_type": "execute_result"
    }
   ],
   "source": [
    "np.mean(wordlen)"
   ]
  },
  {
   "cell_type": "code",
   "execution_count": 38,
   "metadata": {},
   "outputs": [],
   "source": [
    "sentiment_dir = 'data/visual_sentiment/'"
   ]
  },
  {
   "cell_type": "code",
   "execution_count": 42,
   "metadata": {},
   "outputs": [
    {
     "name": "stdout",
     "output_type": "stream",
     "text": [
      "57\n"
     ]
    },
    {
     "data": {
      "text/plain": [
       "['data/visual_sentiment/awe_6th_3000.csv',\n",
       " 'data/visual_sentiment/contentment_2nd_1000.csv',\n",
       " 'data/visual_sentiment/anger_1st_ins_1000.csv',\n",
       " 'data/visual_sentiment/excitement_4th_2000.csv',\n",
       " 'data/visual_sentiment/fear_4th_2000.csv',\n",
       " 'data/visual_sentiment/disgust_6th_3000.csv',\n",
       " 'data/visual_sentiment/contentment_3rd_1000.csv',\n",
       " 'data/visual_sentiment/sadness_4th_2000.csv',\n",
       " 'data/visual_sentiment/amusement_1st_ins_1000.csv',\n",
       " 'data/visual_sentiment/amusement_1st_1000.csv',\n",
       " 'data/visual_sentiment/contentment_5th_2000.csv',\n",
       " 'data/visual_sentiment/anger_6th_3000.csv',\n",
       " 'data/visual_sentiment/awe_2nd_1000.csv',\n",
       " 'data/visual_sentiment/contentment_6th_3000.csv',\n",
       " 'data/visual_sentiment/disgust_3rd_1000.csv',\n",
       " 'data/visual_sentiment/anger_5th_2000.csv',\n",
       " 'data/visual_sentiment/amusement_4th_2000.csv',\n",
       " 'data/visual_sentiment/disgust_2nd_1000.csv',\n",
       " 'data/visual_sentiment/awe_3rd_1000.csv',\n",
       " 'data/visual_sentiment/sadness_1st_1000.csv',\n",
       " 'data/visual_sentiment/anger_3rd_1000.csv',\n",
       " 'data/visual_sentiment/excitement_1st_ins_1000.csv',\n",
       " 'data/visual_sentiment/disgust_5th_2000.csv',\n",
       " 'data/visual_sentiment/excitement_1st_1000.csv',\n",
       " 'data/visual_sentiment/fear_1st_1000.csv',\n",
       " 'data/visual_sentiment/awe_5th_2000.csv',\n",
       " 'data/visual_sentiment/anger_2nd_1000.csv',\n",
       " 'data/visual_sentiment/fear_2nd_1000.csv',\n",
       " 'data/visual_sentiment/excitement_2nd_1000.csv',\n",
       " 'data/visual_sentiment/amusement_6th_3000.csv',\n",
       " 'data/visual_sentiment/sadness_5th_2000.csv',\n",
       " 'data/visual_sentiment/fear_1st_ins_1000.csv',\n",
       " 'data/visual_sentiment/contentment_4th_2000.csv',\n",
       " 'data/visual_sentiment/anger_1st_1000.csv',\n",
       " 'data/visual_sentiment/contentment_1st_ins_1000.csv',\n",
       " 'data/visual_sentiment/fear_3rd_1000.csv',\n",
       " 'data/visual_sentiment/excitement_3rd_1000.csv',\n",
       " 'data/visual_sentiment/awe_1st_1000.csv',\n",
       " 'data/visual_sentiment/sadness_3rd_1000.csv',\n",
       " 'data/visual_sentiment/sadness_2nd_1000.csv',\n",
       " 'data/visual_sentiment/excitement_5th_2000.csv',\n",
       " 'data/visual_sentiment/fear_5th_2000.csv',\n",
       " 'data/visual_sentiment/disgust_1st_1000.csv',\n",
       " 'data/visual_sentiment/sadness_1st_ins_1000.csv',\n",
       " 'data/visual_sentiment/fear_6th_3000.csv',\n",
       " 'data/visual_sentiment/excitement_6th_3000.csv',\n",
       " 'data/visual_sentiment/amusement_2nd_1000.csv',\n",
       " 'data/visual_sentiment/disgust_4th_2000.csv',\n",
       " 'data/visual_sentiment/awe_4th_2000.csv',\n",
       " 'data/visual_sentiment/disgust_1st_ins_1000.csv',\n",
       " 'data/visual_sentiment/amusement_3rd_1000.csv',\n",
       " 'data/visual_sentiment/awe_1st_ins_1000.csv',\n",
       " 'data/visual_sentiment/contentment_1st_1000.csv',\n",
       " 'data/visual_sentiment/anger_4th_2000.csv',\n",
       " 'data/visual_sentiment/sadness_6th_3000.csv',\n",
       " 'data/visual_sentiment/amusement_5th_2000.csv',\n",
       " 'data/visual_sentiment/fear_7th_2000.csv']"
      ]
     },
     "execution_count": 42,
     "metadata": {},
     "output_type": "execute_result"
    }
   ],
   "source": [
    "csvs = glob2.glob(sentiment_dir + '/*.csv')\n",
    "print(len(csvs))\n"
   ]
  },
  {
   "cell_type": "code",
   "execution_count": 49,
   "metadata": {},
   "outputs": [],
   "source": [
    "dfs = []\n",
    "for csv in csvs:\n",
    "    dfs.append(pd.read_csv(csv, header=None, names=['emotion', 'url', 'disagrees', 'agrees']))"
   ]
  },
  {
   "cell_type": "code",
   "execution_count": 51,
   "metadata": {},
   "outputs": [],
   "source": [
    "df = pd.concat(dfs)"
   ]
  },
  {
   "cell_type": "code",
   "execution_count": 85,
   "metadata": {},
   "outputs": [],
   "source": [
    "df.to_csv('data/visual_sentiment.csv', index_label='id')"
   ]
  },
  {
   "cell_type": "code",
   "execution_count": 86,
   "metadata": {},
   "outputs": [],
   "source": [
    "data = pd.read_csv('data/visual_sentiment.csv')"
   ]
  },
  {
   "cell_type": "code",
   "execution_count": 75,
   "metadata": {},
   "outputs": [
    {
     "name": "stdout",
     "output_type": "stream",
     "text": [
      "http://farm8.staticflickr.com/7095/13701696064_dc924d48f4_z.jpg\n"
     ]
    }
   ],
   "source": [
    "for row in data.iterrows():\n",
    "    print(row[1]['url'])\n",
    "    break"
   ]
  },
  {
   "cell_type": "code",
   "execution_count": 79,
   "metadata": {},
   "outputs": [],
   "source": [
    "url = data.url[0]"
   ]
  },
  {
   "cell_type": "code",
   "execution_count": 80,
   "metadata": {},
   "outputs": [
    {
     "data": {
      "text/plain": [
       "'http://farm8.staticflickr.com/7095/13701696064_dc924d48f4_z.jpg'"
      ]
     },
     "execution_count": 80,
     "metadata": {},
     "output_type": "execute_result"
    }
   ],
   "source": [
    "url"
   ]
  },
  {
   "cell_type": "code",
   "execution_count": 81,
   "metadata": {},
   "outputs": [
    {
     "data": {
      "text/plain": [
       "'https://s.yimg.com/pw/images/en-us/photo_unavailable.png'"
      ]
     },
     "execution_count": 81,
     "metadata": {},
     "output_type": "execute_result"
    }
   ],
   "source": [
    "response = request.urlopen(url)\n",
    "image_data = response.read()\n",
    "response.geturl()"
   ]
  },
  {
   "cell_type": "code",
   "execution_count": 82,
   "metadata": {},
   "outputs": [],
   "source": [
    "imgs = os.listdir('data/sentiment_image/')"
   ]
  },
  {
   "cell_type": "code",
   "execution_count": 91,
   "metadata": {},
   "outputs": [],
   "source": [
    "def filter_multim(multim):\n",
    "    output = []\n",
    "    imgs = os.listdir('data/image/')\n",
    "    valid_ids = set()\n",
    "    for img in imgs:\n",
    "        valid_ids.add(int(os.path.splitext(img)[0]))\n",
    "    for entry in multim:\n",
    "        if entry['id'] in valid_ids:\n",
    "            output.append(entry)\n",
    "    return output\n",
    "\n",
    "def filter_sentiment(df):\n",
    "    imgs = os.listdir('data/sentiment_image/')\n",
    "    valid_ids = set()\n",
    "    for img in imgs:\n",
    "        valid_ids.add(int(os.path.splitext(img)[0]))\n",
    "    def valid(id):\n",
    "        return True if id in valid_ids else False\n",
    "    is_valid = df.id.apply(valid)\n",
    "    ret = df[is_valid == True]\n",
    "    return ret\n",
    "            "
   ]
  },
  {
   "cell_type": "code",
   "execution_count": 92,
   "metadata": {},
   "outputs": [],
   "source": [
    "filtered = filter_sentiment(data)"
   ]
  },
  {
   "cell_type": "code",
   "execution_count": 96,
   "metadata": {},
   "outputs": [],
   "source": [
    "filtered.to_csv('data/visual_sentiment_filtered.csv', index=False)"
   ]
  },
  {
   "cell_type": "code",
   "execution_count": null,
   "metadata": {},
   "outputs": [],
   "source": []
  }
 ],
 "metadata": {
  "kernelspec": {
   "display_name": "Python 3",
   "language": "python",
   "name": "python3"
  },
  "language_info": {
   "codemirror_mode": {
    "name": "ipython",
    "version": 3
   },
   "file_extension": ".py",
   "mimetype": "text/x-python",
   "name": "python",
   "nbconvert_exporter": "python",
   "pygments_lexer": "ipython3",
   "version": "3.6.6"
  }
 },
 "nbformat": 4,
 "nbformat_minor": 2
}
